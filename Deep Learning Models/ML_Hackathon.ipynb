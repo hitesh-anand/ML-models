{
 "cells": [
  {
   "cell_type": "markdown",
   "metadata": {
    "colab_type": "text",
    "id": "3DR-eO17geWu"
   },
   "source": [
    "# Convolutional Neural Network"
   ]
  },
  {
   "cell_type": "markdown",
   "metadata": {
    "colab_type": "text",
    "id": "EMefrVPCg-60"
   },
   "source": [
    "### Importing the libraries"
   ]
  },
  {
   "cell_type": "code",
   "execution_count": 101,
   "metadata": {
    "colab": {},
    "colab_type": "code",
    "id": "sCV30xyVhFbE"
   },
   "outputs": [],
   "source": [
    "import tensorflow as tf\n",
    "import matplotlib.pyplot as plt\n",
    "import numpy as np\n",
    "import random\n",
    "\n",
    "from keras.preprocessing import image\n",
    "from keras.preprocessing.image import ImageDataGenerator"
   ]
  },
  {
   "cell_type": "code",
   "execution_count": 4,
   "metadata": {
    "colab": {},
    "colab_type": "code",
    "id": "FIleuCAjoFD8"
   },
   "outputs": [
    {
     "data": {
      "text/plain": [
       "'2.4.1'"
      ]
     },
     "execution_count": 4,
     "metadata": {},
     "output_type": "execute_result"
    }
   ],
   "source": [
    "tf.__version__"
   ]
  },
  {
   "cell_type": "markdown",
   "metadata": {
    "colab_type": "text",
    "id": "oxQxCBWyoGPE"
   },
   "source": [
    "## Part 1 - Data Preprocessing"
   ]
  },
  {
   "cell_type": "markdown",
   "metadata": {
    "colab_type": "text",
    "id": "MvE-heJNo3GG"
   },
   "source": [
    "### Preprocessing the Training set"
   ]
  },
  {
   "cell_type": "code",
   "execution_count": 5,
   "metadata": {
    "colab": {},
    "colab_type": "code",
    "id": "0koUcJMJpEBD"
   },
   "outputs": [
    {
     "name": "stdout",
     "output_type": "stream",
     "text": [
      "Found 14034 images belonging to 6 classes.\n"
     ]
    }
   ],
   "source": [
    "train_datagen = ImageDataGenerator(rescale = 1./255,\n",
    "                                   shear_range = 0.2,\n",
    "                                   zoom_range = 0.2,\n",
    "                                   horizontal_flip = True)\n",
    "training_set = train_datagen.flow_from_directory('dataset/seg_train/seg_train',\n",
    "                                                 target_size = (64, 64),\n",
    "                                                 batch_size = 32,\n",
    "                                                 class_mode = 'categorical')"
   ]
  },
  {
   "cell_type": "markdown",
   "metadata": {
    "colab_type": "text",
    "id": "mrCMmGw9pHys"
   },
   "source": [
    "### Preprocessing the Test set"
   ]
  },
  {
   "cell_type": "code",
   "execution_count": 6,
   "metadata": {
    "colab": {},
    "colab_type": "code",
    "id": "SH4WzfOhpKc3"
   },
   "outputs": [
    {
     "name": "stdout",
     "output_type": "stream",
     "text": [
      "Found 3000 images belonging to 6 classes.\n"
     ]
    }
   ],
   "source": [
    "test_datagen = ImageDataGenerator(rescale = 1./255)\n",
    "test_set = test_datagen.flow_from_directory('dataset/seg_test/seg_test',\n",
    "                                            target_size = (64, 64),\n",
    "                                            batch_size = 32,\n",
    "                                            class_mode = 'categorical')"
   ]
  },
  {
   "cell_type": "markdown",
   "metadata": {
    "colab_type": "text",
    "id": "af8O4l90gk7B"
   },
   "source": [
    "## Part 2 - Building the CNN"
   ]
  },
  {
   "cell_type": "markdown",
   "metadata": {
    "colab_type": "text",
    "id": "ces1gXY2lmoX"
   },
   "source": [
    "### Initialising the CNN"
   ]
  },
  {
   "cell_type": "code",
   "execution_count": 7,
   "metadata": {
    "colab": {},
    "colab_type": "code",
    "id": "SAUt4UMPlhLS"
   },
   "outputs": [],
   "source": [
    "cnn = tf.keras.models.Sequential()"
   ]
  },
  {
   "cell_type": "markdown",
   "metadata": {
    "colab_type": "text",
    "id": "u5YJj_XMl5LF"
   },
   "source": [
    "### Step 1 - Convolution"
   ]
  },
  {
   "cell_type": "code",
   "execution_count": 8,
   "metadata": {
    "colab": {},
    "colab_type": "code",
    "id": "XPzPrMckl-hV"
   },
   "outputs": [],
   "source": [
    "cnn.add(tf.keras.layers.Conv2D(filters=32, kernel_size=3, activation='relu', input_shape=[64, 64, 3]))"
   ]
  },
  {
   "cell_type": "markdown",
   "metadata": {
    "colab_type": "text",
    "id": "tf87FpvxmNOJ"
   },
   "source": [
    "### Step 2 - Pooling"
   ]
  },
  {
   "cell_type": "code",
   "execution_count": 9,
   "metadata": {
    "colab": {},
    "colab_type": "code",
    "id": "ncpqPl69mOac"
   },
   "outputs": [],
   "source": [
    "cnn.add(tf.keras.layers.MaxPool2D(pool_size=2, strides=2))"
   ]
  },
  {
   "cell_type": "markdown",
   "metadata": {
    "colab_type": "text",
    "id": "xaTOgD8rm4mU"
   },
   "source": [
    "### Adding a second convolutional layer"
   ]
  },
  {
   "cell_type": "code",
   "execution_count": 10,
   "metadata": {
    "colab": {},
    "colab_type": "code",
    "id": "i_-FZjn_m8gk"
   },
   "outputs": [],
   "source": [
    "cnn.add(tf.keras.layers.Conv2D(filters=32, kernel_size=3, activation='relu'))\n",
    "cnn.add(tf.keras.layers.MaxPool2D(pool_size=2, strides=2))"
   ]
  },
  {
   "cell_type": "markdown",
   "metadata": {
    "colab_type": "text",
    "id": "tmiEuvTunKfk"
   },
   "source": [
    "### Step 3 - Flattening"
   ]
  },
  {
   "cell_type": "code",
   "execution_count": 11,
   "metadata": {
    "colab": {},
    "colab_type": "code",
    "id": "6AZeOGCvnNZn"
   },
   "outputs": [],
   "source": [
    "cnn.add(tf.keras.layers.Flatten())"
   ]
  },
  {
   "cell_type": "markdown",
   "metadata": {
    "colab_type": "text",
    "id": "dAoSECOm203v"
   },
   "source": [
    "### Step 4 - Full Connection"
   ]
  },
  {
   "cell_type": "code",
   "execution_count": 12,
   "metadata": {
    "colab": {},
    "colab_type": "code",
    "id": "8GtmUlLd26Nq"
   },
   "outputs": [],
   "source": [
    "cnn.add(tf.keras.layers.Dense(units=128, activation='relu'))"
   ]
  },
  {
   "cell_type": "markdown",
   "metadata": {
    "colab_type": "text",
    "id": "yTldFvbX28Na"
   },
   "source": [
    "### Step 5 - Output Layer"
   ]
  },
  {
   "cell_type": "code",
   "execution_count": 13,
   "metadata": {
    "colab": {},
    "colab_type": "code",
    "id": "1p_Zj1Mc3Ko_"
   },
   "outputs": [],
   "source": [
    "cnn.add(tf.keras.layers.Dense(units=6, activation='sigmoid'))"
   ]
  },
  {
   "cell_type": "markdown",
   "metadata": {
    "colab_type": "text",
    "id": "D6XkI90snSDl"
   },
   "source": [
    "## Part 3 - Training the CNN"
   ]
  },
  {
   "cell_type": "markdown",
   "metadata": {
    "colab_type": "text",
    "id": "vfrFQACEnc6i"
   },
   "source": [
    "### Compiling the CNN"
   ]
  },
  {
   "cell_type": "code",
   "execution_count": 14,
   "metadata": {
    "colab": {},
    "colab_type": "code",
    "id": "NALksrNQpUlJ"
   },
   "outputs": [],
   "source": [
    "cnn.compile(optimizer = 'adam', loss = 'mse', metrics = ['accuracy'])"
   ]
  },
  {
   "cell_type": "markdown",
   "metadata": {
    "colab_type": "text",
    "id": "ehS-v3MIpX2h"
   },
   "source": [
    "### Training the CNN on the Training set and evaluating it on the Test set"
   ]
  },
  {
   "cell_type": "code",
   "execution_count": 15,
   "metadata": {
    "colab": {},
    "colab_type": "code",
    "id": "XUj1W4PJptta"
   },
   "outputs": [
    {
     "name": "stdout",
     "output_type": "stream",
     "text": [
      "Epoch 1/25\n",
      "439/439 [==============================] - 282s 638ms/step - loss: 0.1047 - accuracy: 0.5058 - val_loss: 0.0729 - val_accuracy: 0.6793\n",
      "Epoch 2/25\n",
      "439/439 [==============================] - 50s 113ms/step - loss: 0.0725 - accuracy: 0.6849 - val_loss: 0.0685 - val_accuracy: 0.7217\n",
      "Epoch 3/25\n",
      "439/439 [==============================] - 49s 112ms/step - loss: 0.0621 - accuracy: 0.7364 - val_loss: 0.0597 - val_accuracy: 0.7557\n",
      "Epoch 4/25\n",
      "439/439 [==============================] - 49s 112ms/step - loss: 0.0552 - accuracy: 0.7713 - val_loss: 0.0615 - val_accuracy: 0.7510\n",
      "Epoch 5/25\n",
      "439/439 [==============================] - 48s 110ms/step - loss: 0.0525 - accuracy: 0.7878 - val_loss: 0.0524 - val_accuracy: 0.7890\n",
      "Epoch 6/25\n",
      "439/439 [==============================] - 49s 112ms/step - loss: 0.0494 - accuracy: 0.8017 - val_loss: 0.0498 - val_accuracy: 0.8037\n",
      "Epoch 7/25\n",
      "439/439 [==============================] - 48s 110ms/step - loss: 0.0449 - accuracy: 0.8230 - val_loss: 0.0502 - val_accuracy: 0.7980\n",
      "Epoch 8/25\n",
      "439/439 [==============================] - 49s 111ms/step - loss: 0.0425 - accuracy: 0.8328 - val_loss: 0.0565 - val_accuracy: 0.7760\n",
      "Epoch 9/25\n",
      "439/439 [==============================] - 48s 110ms/step - loss: 0.0419 - accuracy: 0.8339 - val_loss: 0.0454 - val_accuracy: 0.8247\n",
      "Epoch 10/25\n",
      "439/439 [==============================] - 49s 111ms/step - loss: 0.0400 - accuracy: 0.8416 - val_loss: 0.0513 - val_accuracy: 0.7923\n",
      "Epoch 11/25\n",
      "439/439 [==============================] - 49s 112ms/step - loss: 0.0380 - accuracy: 0.8526 - val_loss: 0.0516 - val_accuracy: 0.7867\n",
      "Epoch 12/25\n",
      "439/439 [==============================] - 49s 112ms/step - loss: 0.0370 - accuracy: 0.8527 - val_loss: 0.0484 - val_accuracy: 0.8120\n",
      "Epoch 13/25\n",
      "439/439 [==============================] - 50s 114ms/step - loss: 0.0349 - accuracy: 0.8675 - val_loss: 0.0434 - val_accuracy: 0.8263\n",
      "Epoch 14/25\n",
      "439/439 [==============================] - 49s 111ms/step - loss: 0.0347 - accuracy: 0.8683 - val_loss: 0.0485 - val_accuracy: 0.8103\n",
      "Epoch 15/25\n",
      "439/439 [==============================] - 50s 113ms/step - loss: 0.0330 - accuracy: 0.8739 - val_loss: 0.0459 - val_accuracy: 0.8233\n",
      "Epoch 16/25\n",
      "439/439 [==============================] - 50s 113ms/step - loss: 0.0322 - accuracy: 0.8759 - val_loss: 0.0461 - val_accuracy: 0.8243\n",
      "Epoch 17/25\n",
      "439/439 [==============================] - 50s 113ms/step - loss: 0.0309 - accuracy: 0.8856 - val_loss: 0.0445 - val_accuracy: 0.8327\n",
      "Epoch 18/25\n",
      "439/439 [==============================] - 50s 114ms/step - loss: 0.0305 - accuracy: 0.8849 - val_loss: 0.0452 - val_accuracy: 0.8213\n",
      "Epoch 19/25\n",
      "439/439 [==============================] - 48s 109ms/step - loss: 0.0299 - accuracy: 0.8881 - val_loss: 0.0439 - val_accuracy: 0.8300\n",
      "Epoch 20/25\n",
      "439/439 [==============================] - 48s 108ms/step - loss: 0.0285 - accuracy: 0.8937 - val_loss: 0.0475 - val_accuracy: 0.8197\n",
      "Epoch 21/25\n",
      "439/439 [==============================] - 49s 112ms/step - loss: 0.0269 - accuracy: 0.8993 - val_loss: 0.0453 - val_accuracy: 0.8270\n",
      "Epoch 22/25\n",
      "439/439 [==============================] - 49s 112ms/step - loss: 0.0263 - accuracy: 0.9007 - val_loss: 0.0458 - val_accuracy: 0.8280\n",
      "Epoch 23/25\n",
      "439/439 [==============================] - 49s 111ms/step - loss: 0.0274 - accuracy: 0.8988 - val_loss: 0.0452 - val_accuracy: 0.8283\n",
      "Epoch 24/25\n",
      "439/439 [==============================] - 48s 109ms/step - loss: 0.0251 - accuracy: 0.9073 - val_loss: 0.0495 - val_accuracy: 0.8117\n",
      "Epoch 25/25\n",
      "439/439 [==============================] - 48s 110ms/step - loss: 0.0236 - accuracy: 0.9152 - val_loss: 0.0482 - val_accuracy: 0.8160\n"
     ]
    },
    {
     "data": {
      "text/plain": [
       "<tensorflow.python.keras.callbacks.History at 0x7fb81473c490>"
      ]
     },
     "execution_count": 15,
     "metadata": {},
     "output_type": "execute_result"
    }
   ],
   "source": [
    "cnn.fit(x = training_set, validation_data = test_set, epochs = 25)"
   ]
  },
  {
   "cell_type": "markdown",
   "metadata": {
    "colab_type": "text",
    "id": "U3PZasO0006Z"
   },
   "source": [
    "## Part 4 - Plotting accuracy and losses "
   ]
  },
  {
   "cell_type": "code",
   "execution_count": 23,
   "metadata": {},
   "outputs": [
    {
     "data": {
      "image/png": "[encoded data removed]",
      "text/plain": [
       "<Figure size 1584x432 with 2 Axes>"
      ]
     },
     "metadata": {
      "needs_background": "light"
     },
     "output_type": "display_data"
    }
   ],
   "source": [
    "acc = cnn.history.history['accuracy']\n",
    "val_acc = cnn.history.history['val_accuracy']\n",
    "\n",
    "loss = cnn.history.history['loss']\n",
    "val_loss = cnn.history.history['val_loss']\n",
    "\n",
    "epochs_range = range(25)\n",
    "\n",
    "plt.figure(figsize=(22, 6))\n",
    "plt.subplot(1, 2, 1)\n",
    "plt.plot(epochs_range, acc, label='Training Accuracy')\n",
    "plt.plot(epochs_range, val_acc, label='Validation Accuracy')\n",
    "plt.legend(loc='lower right')\n",
    "plt.title('Training and Validation Accuracy')\n",
    "\n",
    "plt.subplot(1, 2, 2)\n",
    "plt.plot(epochs_range, loss, label='Training Loss')\n",
    "plt.plot(epochs_range, val_loss, label='Validation Loss')\n",
    "plt.legend(loc='upper right')\n",
    "plt.title('Training and Validation Loss')\n",
    "plt.show()"
   ]
  },
  {
   "cell_type": "markdown",
   "metadata": {},
   "source": [
    "## Part 5 - Prediction CSV generation"
   ]
  },
  {
   "cell_type": "code",
   "execution_count": 78,
   "metadata": {},
   "outputs": [],
   "source": [
    "d = {0.0: 'buildings',\n",
    "     1.0 : 'forest',\n",
    "     2.0 :'glacier',\n",
    "     3.0 : 'mountain',\n",
    "     4.0 : 'sea',\n",
    "     5.0 : 'street'}"
   ]
  },
  {
   "cell_type": "code",
   "execution_count": 120,
   "metadata": {},
   "outputs": [],
   "source": [
    "def predict(x):\n",
    "    d = {0.0: 'buildings',\n",
    "     1.0 : 'forest',\n",
    "     2.0 :'glacier',\n",
    "     3.0 : 'mountain',\n",
    "     4.0 : 'sea',\n",
    "     5.0 : 'street'}\n",
    "    \n",
    "    test_image = image.load_img('./{}'.format(x), target_size = (64, 64))\n",
    "    test_image = image.img_to_array(test_image)\n",
    "    test_image = np.expand_dims(test_image, axis = 0)\n",
    "    result = cnn.predict(test_image)\n",
    "\n",
    "    result = list(result[0])\n",
    "    try:\n",
    "        pos = result.index(1.0)\n",
    "    except:\n",
    "        pos = random.randint(0,5)\n",
    "\n",
    "    return d[pos]"
   ]
  },
  {
   "cell_type": "code",
   "execution_count": 79,
   "metadata": {},
   "outputs": [],
   "source": [
    "import pathlib\n",
    "test_data_dir = pathlib.Path('dataset/seg_test/seg_test')"
   ]
  },
  {
   "cell_type": "code",
   "execution_count": 81,
   "metadata": {},
   "outputs": [],
   "source": [
    "req = list(test_data_dir.glob('*/*.jpg'))"
   ]
  },
  {
   "cell_type": "code",
   "execution_count": 111,
   "metadata": {},
   "outputs": [
    {
     "data": {
      "text/plain": [
       "'street'"
      ]
     },
     "execution_count": 111,
     "metadata": {},
     "output_type": "execute_result"
    }
   ],
   "source": [
    "s = str(req[0])\n",
    "s = s[5:]\n",
    "s[0:s.find(\"/\")]"
   ]
  },
  {
   "cell_type": "code",
   "execution_count": 122,
   "metadata": {},
   "outputs": [],
   "source": [
    "\"\"\"\n",
    "We have used a different folder structure here so results might appear different.\n",
    "\"\"\"\n",
    "f = open('prediction_2.csv', 'w')\n",
    "\n",
    "for x in req:\n",
    "    s = str(x)\n",
    "    z = s\n",
    "    pred = predict(s)\n",
    "    z = z[5:]\n",
    "    y = z[0:z.find(\"/\")]\n",
    "    i += 1\n",
    "    c = \"incorrect\"\n",
    "    if y == pred:\n",
    "        c = \"correct\"\n",
    "        \n",
    "    finalstr = s[5:] + \" \" + pred + \" \" + c + \",\"\n",
    "    f.writelines(finalstr)\n",
    "\n",
    "f.close()"
   ]
  }
 ],
 "metadata": {
  "colab": {
   "collapsed_sections": [],
   "name": "convolutional_neural_network.ipynb",
   "provenance": [],
   "toc_visible": true
  },
  "kernelspec": {
   "display_name": "Python 3",
   "language": "python",
   "name": "python3"
  },
  "language_info": {
   "codemirror_mode": {
    "name": "ipython",
    "version": 3
   },
   "file_extension": ".py",
   "mimetype": "text/x-python",
   "name": "python",
   "nbconvert_exporter": "python",
   "pygments_lexer": "ipython3",
   "version": "3.8.5"
  }
 },
 "nbformat": 4,
 "nbformat_minor": 1
}
